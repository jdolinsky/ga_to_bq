{
  "cells": [
    {
      "cell_type": "code",
      "execution_count": 1,
      "metadata": {
        "id": "UHnKkNhLgAhN"
      },
      "outputs": [],
      "source": [
        "# This is not a production ready code. It's a working POC.\n",
        "# Needs error validations and data tests added\n",
        "\n",
        "from google.oauth2 import service_account\n",
        "from googleapiclient.discovery import build\n",
        "from google.cloud import bigquery\n",
        "import os\n",
        "import json\n",
        "import pandas as pd\n",
        "import pandas_gbq"
      ]
    },
    {
      "cell_type": "code",
      "execution_count": 2,
      "metadata": {
        "id": "kJ1VWVpQhsNI"
      },
      "outputs": [],
      "source": [
        "# path to your json for GA keys\n",
        "CLIENT_SECRETS_PATH =\"XXXX\"\n",
        "VIEW_ID = \"196762668\"\n",
        "# path to BQ json keys\n",
        "# BQ user should have 'BigQuery Job User' permissoins added\n",
        "CREDENTIALS_PATH = 'XXXXXXX'\n",
        "os.environ['GOOGLE_APPLICATION_CREDENTIALS'] = CREDENTIALS_PATH\n"
      ]
    },
    {
      "cell_type": "code",
      "execution_count": 10,
      "metadata": {
        "id": "RliMefhSiWst"
      },
      "outputs": [],
      "source": [
        "def initialize_analyticsreporting():\n",
        "\n",
        "  credentials = service_account.Credentials.from_service_account_file(CLIENT_SECRETS_PATH,\n",
        "                                scopes = ['https://www.googleapis.com/auth/analytics.readonly'])\n",
        "  # Build the service object.\n",
        "  analytics = build('analyticsreporting', 'v4', credentials=credentials)\n",
        "\n",
        "  return analytics\n",
        "\n",
        "def get_report(analytics):\n",
        "  # This is a sample report. Should be factored out eventually\n",
        "  return analytics.reports().batchGet(\n",
        "      body={\n",
        "        'reportRequests': [\n",
        "        {\n",
        "          'viewId': VIEW_ID,\n",
        "          'dateRanges': [{'startDate': '2019-06-10', 'endDate': '2019-12-31'}],\n",
        "          'metrics': [{'expression': 'ga:users'},\n",
        "                      {'expression':'ga:sessions'}],\n",
        "          'dimensions': [{'name': 'ga:date'}, {'name': 'ga:browser'}]\n",
        "        }]\n",
        "      }\n",
        "  ).execute()\n",
        "\n",
        "\n",
        "def get_response(response):\n",
        "  # Parses and returns the Analytics Reporting API V4 response as an array of dictionaries representing \n",
        "  # each row to be added to a BQ table\n",
        "  bq_data = []\n",
        "  for report in response.get('reports', []):\n",
        "    columnHeader = report.get('columnHeader', {})\n",
        "    dimensionHeaders = columnHeader.get('dimensions', [])\n",
        "    metricHeaders = columnHeader.get('metricHeader', {}).get('metricHeaderEntries', [])\n",
        "    rows = report.get('data', {}).get('rows', [])\n",
        "    for row in rows:\n",
        "      bq_row = {}\n",
        "      dimensions = row.get('dimensions', [])\n",
        "      dateRangeValues = row.get('metrics', [])\n",
        "      # print (dimensions)\n",
        "      # print (dateRangeValues)\n",
        "      for header, dimension in zip(dimensionHeaders, dimensions):\n",
        "        #print (header + ': ' + dimension)\n",
        "        bq_row[header] = dimension\n",
        "\n",
        "      for values in dateRangeValues:\n",
        "        for metricHeader, value in zip(metricHeaders, values.get('values')):\n",
        "          bq_row[metricHeader.get('name')] = value\n",
        "      bq_data.append(bq_row)\n",
        "\n",
        "  return bq_data"
      ]
    },
    {
      "cell_type": "code",
      "execution_count": 12,
      "metadata": {
        "id": "_B1a_SJBhkvK"
      },
      "outputs": [],
      "source": [
        "analytics = initialize_analyticsreporting()\n",
        "response = get_report(analytics)\n",
        "bq_data = get_response(response)\n",
        "# convert a list of dictionaries to json\n",
        "bq_data = json.dumps(bq_data)\n",
        "# bq only weirdly accepts new line separated JSON so to avoid saving the file\n",
        "# and converting it, I use pandas\n",
        "df = pd.read_json(bq_data)\n",
        "pandas_gbq.to_gbq(df, 'ga_to_bq.u_b_c', project_id='data-engineering-390014',\n",
        "                  if_exists = 'append')"
      ]
    }
  ],
  "metadata": {
    "colab": {
      "provenance": []
    },
    "kernelspec": {
      "display_name": "Python 3",
      "name": "python3"
    },
    "language_info": {
      "name": "python"
    }
  },
  "nbformat": 4,
  "nbformat_minor": 0
}
